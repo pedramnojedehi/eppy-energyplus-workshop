{
 "cells": [
  {
   "cell_type": "markdown",
   "id": "01c5bab8-1cd4-4d11-a160-4a83bcd52d2b",
   "metadata": {},
   "source": [
    "## EpergyPlus + Python + Eppy\n",
    "This script is an exercise for the workshop<br>\n",
    "Prepared by: Pedram Nojedehi <br>\n",
    "Created on: 18/07/2025"
   ]
  },
  {
   "cell_type": "code",
   "execution_count": 43,
   "id": "ce6d9995-99b0-454e-90b8-7fd4d6a7a912",
   "metadata": {},
   "outputs": [],
   "source": [
    "from eppy.modeleditor import IDF\n",
    "import os\n",
    "\n",
    "idd_path = r\"C:\\EnergyPlusV24-1-0\\Energy+.idd\"\n",
    "idf_path = r\"Shoebox.idf\"\n",
    "epw_path = r\"ON_OTTAWA-INTL-ONT_716280_19.epw\"\n",
    "\n",
    "output_dir = \"window_scenarios\"\n",
    "os.makedirs(output_dir, exist_ok=True)\n",
    "\n",
    "IDF.setiddname(idd_path)\n",
    "idf = IDF(idf_path, epw_path)"
   ]
  },
  {
   "cell_type": "code",
   "execution_count": 44,
   "id": "3dc8dc90-1f24-4d20-a009-43c36aba1c06",
   "metadata": {},
   "outputs": [
    {
     "data": {
      "text/plain": [
       "'Exterior Window'"
      ]
     },
     "execution_count": 44,
     "metadata": {},
     "output_type": "execute_result"
    }
   ],
   "source": [
    "idf.idfobjects['FenestrationSurface:Detailed'][0].Construction_Name"
   ]
  },
  {
   "cell_type": "code",
   "execution_count": 45,
   "id": "7893da85-17cb-473c-96ee-a878e3a92b52",
   "metadata": {},
   "outputs": [],
   "source": [
    "from eppy.modeleditor import IDF\n",
    "import os\n",
    "\n",
    "# Set IDD file once\n",
    "IDF.setiddname(idd_path)\n",
    "\n",
    "# Define scenarios\n",
    "scenarios = {\n",
    "    \"lowSHGC\": {\"U\": 1.4, \"SHGC\": 0.3},\n",
    "    \"medSHGC\": {\"U\": 1.4, \"SHGC\": 0.5},\n",
    "    \"highSHGC\": {\"U\": 1.4, \"SHGC\": 0.7},\n",
    "    \"lowU\": {\"U\": 1.0, \"SHGC\": 0.5},\n",
    "    \"highU\": {\"U\": 2.5, \"SHGC\": 0.5}\n",
    "}\n",
    "\n",
    "original_window_construction = \"Exterior Window\"\n",
    "\n",
    "for scenario_name, props in scenarios.items():\n",
    "    # Load a fresh copy of the base model for each scenario\n",
    "    idf_scenario = IDF(idf_path, epw_path)\n",
    "\n",
    "    # Create new glazing definition\n",
    "    glazing_name = f\"Glazing_{scenario_name}\"\n",
    "    idf_scenario.newidfobject(\n",
    "        \"WINDOWMATERIAL:SIMPLEGLAZINGSYSTEM\",\n",
    "        Name=glazing_name,\n",
    "        UFactor=props[\"U\"],\n",
    "        Solar_Heat_Gain_Coefficient=props[\"SHGC\"],\n",
    "        Visible_Transmittance=0.6\n",
    "    )\n",
    "\n",
    "    # Create new construction using the glazing\n",
    "    new_construction_name = f\"Exterior Window {scenario_name}\"\n",
    "    idf_scenario.newidfobject(\n",
    "        \"CONSTRUCTION\",\n",
    "        Name=new_construction_name,\n",
    "        Outside_Layer=glazing_name\n",
    "    )\n",
    "\n",
    "    # Assign the new construction to all windows using the original one\n",
    "    for win in idf_scenario.idfobjects[\"FENESTRATIONSURFACE:DETAILED\"]:\n",
    "        if win.Construction_Name == original_window_construction:\n",
    "            win.Construction_Name = new_construction_name\n",
    "\n",
    "    # Save the scenario-specific IDF\n",
    "    scenario_file = os.path.join(output_dir, f\"model_window_{scenario_name}.idf\")\n",
    "    idf_scenario.saveas(scenario_file)"
   ]
  },
  {
   "cell_type": "code",
   "execution_count": 46,
   "id": "a4a9f57e-fe1a-46e6-8bbd-5166fd81cae2",
   "metadata": {},
   "outputs": [
    {
     "data": {
      "text/plain": [
       "'Exterior Window'"
      ]
     },
     "execution_count": 46,
     "metadata": {},
     "output_type": "execute_result"
    }
   ],
   "source": [
    "idf.idfobjects['FenestrationSurface:Detailed'][0].Construction_Name"
   ]
  },
  {
   "cell_type": "code",
   "execution_count": 47,
   "id": "62c2fa91-ba3b-4d40-90d4-768342bf1711",
   "metadata": {},
   "outputs": [
    {
     "name": "stdout",
     "output_type": "stream",
     "text": [
      "\n",
      "C:\\EnergyPlusV24-1-0\\energyplus.exe --weather G:\\Other computers\\My Laptop (1)\\Dissemination\\eppy_API_workshop\\EnergyPlus-python-EMS-main\\ON_OTTAWA-INTL-ONT_716280_19.epw --output-directory G:\\Other computers\\My Laptop (1)\\Dissemination\\eppy_API_workshop\\EnergyPlus-python-EMS-main\\window_scenarios\\model_window_lowSHGC --idd C:\\EnergyPlusV24-1-0\\Energy+.idd --expandobjects G:\\Other computers\\My Laptop (1)\\Dissemination\\eppy_API_workshop\\EnergyPlus-python-EMS-main\\window_scenarios\\model_window_lowSHGC_2b1ead.idf\n",
      "\n",
      "\n",
      "C:\\EnergyPlusV24-1-0\\energyplus.exe --weather G:\\Other computers\\My Laptop (1)\\Dissemination\\eppy_API_workshop\\EnergyPlus-python-EMS-main\\ON_OTTAWA-INTL-ONT_716280_19.epw --output-directory G:\\Other computers\\My Laptop (1)\\Dissemination\\eppy_API_workshop\\EnergyPlus-python-EMS-main\\window_scenarios\\model_window_medSHGC --idd C:\\EnergyPlusV24-1-0\\Energy+.idd --expandobjects G:\\Other computers\\My Laptop (1)\\Dissemination\\eppy_API_workshop\\EnergyPlus-python-EMS-main\\window_scenarios\\model_window_medSHGC_fb4718.idf\n",
      "\n",
      "\n",
      "C:\\EnergyPlusV24-1-0\\energyplus.exe --weather G:\\Other computers\\My Laptop (1)\\Dissemination\\eppy_API_workshop\\EnergyPlus-python-EMS-main\\ON_OTTAWA-INTL-ONT_716280_19.epw --output-directory G:\\Other computers\\My Laptop (1)\\Dissemination\\eppy_API_workshop\\EnergyPlus-python-EMS-main\\window_scenarios\\model_window_highSHGC --idd C:\\EnergyPlusV24-1-0\\Energy+.idd --expandobjects G:\\Other computers\\My Laptop (1)\\Dissemination\\eppy_API_workshop\\EnergyPlus-python-EMS-main\\window_scenarios\\model_window_highSHGC_1bdaae.idf\n",
      "\n",
      "\n",
      "C:\\EnergyPlusV24-1-0\\energyplus.exe --weather G:\\Other computers\\My Laptop (1)\\Dissemination\\eppy_API_workshop\\EnergyPlus-python-EMS-main\\ON_OTTAWA-INTL-ONT_716280_19.epw --output-directory G:\\Other computers\\My Laptop (1)\\Dissemination\\eppy_API_workshop\\EnergyPlus-python-EMS-main\\window_scenarios\\model_window_lowU --idd C:\\EnergyPlusV24-1-0\\Energy+.idd --expandobjects G:\\Other computers\\My Laptop (1)\\Dissemination\\eppy_API_workshop\\EnergyPlus-python-EMS-main\\window_scenarios\\model_window_lowU_bd9ff2.idf\n",
      "\n",
      "\n",
      "C:\\EnergyPlusV24-1-0\\energyplus.exe --weather G:\\Other computers\\My Laptop (1)\\Dissemination\\eppy_API_workshop\\EnergyPlus-python-EMS-main\\ON_OTTAWA-INTL-ONT_716280_19.epw --output-directory G:\\Other computers\\My Laptop (1)\\Dissemination\\eppy_API_workshop\\EnergyPlus-python-EMS-main\\window_scenarios\\model_window_highU --idd C:\\EnergyPlusV24-1-0\\Energy+.idd --expandobjects G:\\Other computers\\My Laptop (1)\\Dissemination\\eppy_API_workshop\\EnergyPlus-python-EMS-main\\window_scenarios\\model_window_highU_130e8b.idf\n",
      "\n"
     ]
    }
   ],
   "source": [
    "for file in os.listdir(output_dir):\n",
    "    if file.endswith(\".idf\"):\n",
    "        run_dir = os.path.join(output_dir, file.replace(\".idf\", \"\"))\n",
    "        os.makedirs(run_dir, exist_ok=True)\n",
    "\n",
    "        idf = IDF(os.path.join(output_dir, file), epw_path)\n",
    "        idf.run(output_directory=run_dir, expandobjects=True)\n"
   ]
  },
  {
   "cell_type": "code",
   "execution_count": 48,
   "id": "ec385bf5-fa10-44e8-9f82-dfc7c203b062",
   "metadata": {},
   "outputs": [
    {
     "name": "stdout",
     "output_type": "stream",
     "text": [
      "   Scenario  Total_Energy_kWh  Overheating_Hours\n",
      "0   lowSHGC           5859.79                723\n",
      "1   medSHGC           6984.24                787\n",
      "2  highSHGC           8147.37                828\n",
      "3      lowU           7055.22                793\n",
      "4     highU           6931.55                780\n"
     ]
    }
   ],
   "source": [
    "import pandas as pd\n",
    "import os\n",
    "\n",
    "results = []\n",
    "\n",
    "for file in os.listdir(output_dir):\n",
    "    if file.endswith(\".idf\") and file.startswith(\"model_window_\"):\n",
    "        scenario = file.replace(\"model_window_\", \"\").replace(\".idf\", \"\")\n",
    "        run_dir = os.path.join(output_dir, f\"model_window_{scenario}\")\n",
    "        \n",
    "        meter_path = os.path.join(run_dir, \"eplusmtr.csv\")\n",
    "        out_path = os.path.join(run_dir, \"eplusout.csv\")\n",
    "\n",
    "        if not os.path.exists(meter_path) or not os.path.exists(out_path):\n",
    "            print(f\"Missing output files for scenario: {scenario}\")\n",
    "            continue\n",
    "\n",
    "        # Read meter data and convert J → kWh\n",
    "        df_meter = pd.read_csv(meter_path)\n",
    "        # print(df_meter)\n",
    "        heating_j = df_meter[\"HeatingCoils:EnergyTransfer [J](Hourly)\"].sum()\n",
    "        cooling_j = df_meter[\"CoolingCoils:EnergyTransfer [J](Hourly)\"].sum()\n",
    "        total_energy_kwh = (heating_j + cooling_j) / 3.6e6\n",
    "\n",
    "        # Read zone temperature and setpoints\n",
    "        df_out = pd.read_csv(out_path)\n",
    "        zone_temp = df_out[\"ZONE1:Zone Mean Air Temperature [C](Hourly)\"]\n",
    "        cooling_setpoint = df_out[\"ZONE1:Zone Thermostat Cooling Setpoint Temperature [C](Hourly)\"]\n",
    "        overheating_hours = (zone_temp > cooling_setpoint).sum()\n",
    "\n",
    "        results.append({\n",
    "            \"Scenario\": scenario,\n",
    "            \"Total_Energy_kWh\": round(total_energy_kwh, 2),\n",
    "            \"Overheating_Hours\": overheating_hours\n",
    "        })\n",
    "\n",
    "df_results = pd.DataFrame(results)\n",
    "print(df_results)\n"
   ]
  },
  {
   "cell_type": "code",
   "execution_count": null,
   "id": "2b0f0f4f-b9bd-42e1-a3d8-34e0090adb83",
   "metadata": {},
   "outputs": [],
   "source": []
  }
 ],
 "metadata": {
  "kernelspec": {
   "display_name": "Python 3 (ipykernel)",
   "language": "python",
   "name": "python3"
  },
  "language_info": {
   "codemirror_mode": {
    "name": "ipython",
    "version": 3
   },
   "file_extension": ".py",
   "mimetype": "text/x-python",
   "name": "python",
   "nbconvert_exporter": "python",
   "pygments_lexer": "ipython3",
   "version": "3.12.4"
  }
 },
 "nbformat": 4,
 "nbformat_minor": 5
}
